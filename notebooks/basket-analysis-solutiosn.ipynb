{
 "cells": [
  {
   "cell_type": "markdown",
   "id": "0018bb28",
   "metadata": {},
   "source": [
    "# Association Rules Mining / Basket Analysis\n",
    "\n",
    "Basket Analysis (BA) is a powerful technique to mining the assocation between items within a basket, the result could be communicated as **Frequently Bought Together** items, that is used to:\n",
    "\n",
    "- Create the bundle of items\n",
    "- Recommend other items to add to basket (as \"Frequently Bought Togther\")\n",
    "\n",
    "BA is recommendation algorithm, but not personalization, as it is item-based, and not personalize the recommend by user.\n",
    "\n",
    "**The interesting of this hands-on**:\n",
    "\n",
    "- Instead of using any available public dataset, we will generate the synthetic data, by that:\n",
    "    - We understand deeply the data structure used for this model\n",
    "    - We can validate if the output make sense or not\n",
    "- Instead of using the existing Python package (such as: `mlxtend.frequent_patterns`), we will code the logic of Apriori Algorithm by our own, _it is the best way to understand the model in deeper level_\n",
    "\n"
   ]
  },
  {
   "cell_type": "code",
   "execution_count": null,
   "id": "c3c8d290",
   "metadata": {
    "ExecuteTime": {
     "end_time": "2023-03-10T08:51:39.285946Z",
     "start_time": "2023-03-10T08:51:39.281590Z"
    }
   },
   "outputs": [],
   "source": [
    "import os\n",
    "import sys\n",
    "from typing import Dict\n",
    "from numpy.random import choice, randint\n",
    "from itertools import groupby\n",
    "import pandas as pd\n",
    "import pytest\n",
    "from itertools import combinations\n",
    "import matplotlib.pyplot as plt\n",
    "import seaborn as sns\n",
    "import string\n",
    "from graphviz import Digraph"
   ]
  },
  {
   "cell_type": "markdown",
   "id": "89b3d7e2",
   "metadata": {},
   "source": [
    "# Create basket synthetic data\n",
    "\n",
    "Structure of data input for basket analysis:\n",
    "\n",
    "- basket_1: apple, egg, cheese\n",
    "- basket_2: egg, bread\n",
    "- basket_3: bread, cheese\n",
    "- basket_4: apple, orange\n",
    "- basket_5: egg, cheese"
   ]
  },
  {
   "cell_type": "markdown",
   "id": "48cebb32",
   "metadata": {},
   "source": [
    "## def create_basket"
   ]
  },
  {
   "cell_type": "code",
   "execution_count": 619,
   "id": "77a13ea5",
   "metadata": {
    "ExecuteTime": {
     "end_time": "2023-03-10T09:04:52.529719Z",
     "start_time": "2023-03-10T09:04:52.526218Z"
    }
   },
   "outputs": [],
   "source": [
    "def create_basket(list_item: list, init_freq: list, n_basket: int) -> Dict:\n",
    "    \"\"\"Create a basket of items.\n",
    "    Args:\n",
    "        list_item (list): list of items ['beer', 'egg', 'cheese', 'bread']\n",
    "        init_freq (list): initial frequency of items [0.2, 0.3, 0.1, 0.4]\n",
    "    Returns:\n",
    "        Dict with key as basket_id (range of int from 0 to n_basket), value is first item of basket\n",
    "        Example: {1: 'apple', 2: 'egg', 3: 'orange'}\n",
    "    \"\"\"\n",
    "    baskets = {}\n",
    "    for basket_id in range(n_basket):\n",
    "        # TODO: Fill in __\n",
    "        # Hint: Google numpy.random.choice\n",
    "#         baskets[basket_id] = choice('FILLME_1', 'FILLME_2')\n",
    "        baskets[basket_id] = choice(list_item, p=init_freq)\n",
    "    return baskets"
   ]
  },
  {
   "cell_type": "code",
   "execution_count": null,
   "id": "62ef4a23",
   "metadata": {
    "ExecuteTime": {
     "end_time": "2023-03-10T09:03:21.536446Z",
     "start_time": "2023-03-10T09:03:21.510348Z"
    }
   },
   "outputs": [],
   "source": [
    "# Test function\n",
    "baskets_dict_test = create_basket(list_item=['beer', 'egg', 'cheese'], init_freq=[0.5, 0.5, 0.], n_basket=5)\n",
    "## Test 1\n",
    "for item in baskets_dict_test.values():\n",
    "    assert item in ['beer', 'egg', 'cheese']\n",
    "## Test 2\n",
    "assert len(baskets_dict_test.keys()) == 5\n",
    "print('PASS !!!!!')"
   ]
  },
  {
   "cell_type": "markdown",
   "id": "4fbc015f",
   "metadata": {},
   "source": [
    "## def generate_next_items_by_associated_rule"
   ]
  },
  {
   "cell_type": "code",
   "execution_count": null,
   "id": "a6eec533",
   "metadata": {
    "ExecuteTime": {
     "end_time": "2023-03-10T08:43:04.936126Z",
     "start_time": "2023-03-10T08:43:04.929971Z"
    }
   },
   "outputs": [],
   "source": [
    "# associated_rules = {'bread': {'egg': 0.3, 'cheese': 0.2},\n",
    "#                     'egg': {'apple': 0.2},\n",
    "#                     'cheese': {'egg': 0.3},\n",
    "#                     'beer': {'cheese': 0.2, 'wine': 0.5},\n",
    "#                     'apple': {'orange': 0.2}\n",
    "#                    }\n",
    "\n",
    "# synthetic_item_list = ['beer', 'egg', 'cheese', 'bread', 'wine', 'apple', 'orange']\n",
    "def generate_next_items_by_associated_rule(item, associated_rules, synthetic_item_list):\n",
    "    \"\"\"Pre-defined logic of association\n",
    "    Args:\n",
    "        item: seeding item\n",
    "        associated_rules: we pre-define the rules, to see if the model succesfully to detect it\n",
    "        synthetic_item_list: full list of item\n",
    "    Returns:\n",
    "        next item\n",
    "    \"\"\"\n",
    "    try:\n",
    "        # (1) By the item inputs, extract the associated_items from the rules\n",
    "        associated_items = list(associated_rules['FILLME_1'].keys())\n",
    "        # (2) By the item inputs, extract the freqs of those associated_items from the rules\n",
    "        associated_items_freqs = list(associated_rules['FILLME_2'].values())\n",
    "        # (3)Take other items not the list of associated_items, and item itself\n",
    "        other_items = [i for i in synthetic_item_list if i not in [item, *associated_items]]\n",
    "        other_freq = (1 - np.sum(associated_items_freqs)) / len(other_items)\n",
    "        other_freqs = np.repeat(other_freq, len(other_items)-1)\n",
    "        next_item = choice([*associated_items, *other_items], \n",
    "                           p=[*associated_items_freqs, \n",
    "                              *other_freqs, \n",
    "                              1. - np.sum(associated_items_freqs) - np.sum(other_freqs)])\n",
    "    except:\n",
    "        other_items = [i for i in synthetic_item_list if i != item]\n",
    "        next_item = choice(other_items)\n",
    "    return next_item"
   ]
  },
  {
   "cell_type": "code",
   "execution_count": 625,
   "id": "c08ce0a6",
   "metadata": {
    "ExecuteTime": {
     "end_time": "2023-03-10T09:09:40.754304Z",
     "start_time": "2023-03-10T09:09:40.748835Z"
    }
   },
   "outputs": [
    {
     "name": "stdout",
     "output_type": "stream",
     "text": [
      "EXAMPLE\n",
      "beer ==> wine\n",
      "egg ==> apple\n",
      "cheese ==> apple\n",
      "bread ==> cheese\n",
      "wine ==> orange\n",
      "apple ==> beer\n",
      "orange ==> beer\n"
     ]
    }
   ],
   "source": [
    "print('EXAMPLE')\n",
    "for item in synthetic_item_list:\n",
    "    next_item = generate_associated_items_by_rule(item, associated_rules, synthetic_item_list)\n",
    "    print(f'{item} ==> {next_item}')"
   ]
  },
  {
   "cell_type": "markdown",
   "id": "51acf957",
   "metadata": {},
   "source": [
    "## Parameters"
   ]
  },
  {
   "cell_type": "code",
   "execution_count": 620,
   "id": "f131e496",
   "metadata": {
    "ExecuteTime": {
     "end_time": "2023-03-10T09:04:58.206784Z",
     "start_time": "2023-03-10T09:04:58.203603Z"
    }
   },
   "outputs": [],
   "source": [
    "# Parameters\n",
    "synthetic_item_list = ['beer', 'egg', 'cheese', 'bread', 'wine', 'apple', 'orange']\n",
    "synthetic_init_freq = [0.2, 0.05, 0.1, 0.3, 0.05, 0.2, 0.1]"
   ]
  },
  {
   "cell_type": "code",
   "execution_count": 622,
   "id": "46dbdc7d",
   "metadata": {
    "ExecuteTime": {
     "end_time": "2023-03-10T09:06:08.243057Z",
     "start_time": "2023-03-10T09:06:08.238622Z"
    }
   },
   "outputs": [],
   "source": [
    "associated_rules = {'bread': {'egg': 0.3, 'cheese': 0.2},\n",
    "                    'egg': {'apple': 0.2},\n",
    "                    'cheese': {'egg': 0.3},\n",
    "                    'beer': {'cheese': 0.2, 'wine': 0.5},\n",
    "                    'apple': {'orange': 0.2}\n",
    "                   }"
   ]
  },
  {
   "cell_type": "markdown",
   "id": "95db6dfe",
   "metadata": {},
   "source": [
    "## Initialize basket"
   ]
  },
  {
   "cell_type": "code",
   "execution_count": 621,
   "id": "2e8dcfbe",
   "metadata": {
    "ExecuteTime": {
     "end_time": "2023-03-10T09:04:59.022996Z",
     "start_time": "2023-03-10T09:04:58.997056Z"
    }
   },
   "outputs": [],
   "source": [
    "baskets_dict = create_basket(list_item=synthetic_item_list,\n",
    "             init_freq=synthetic_init_freq,\n",
    "             n_basket=1000)"
   ]
  },
  {
   "cell_type": "code",
   "execution_count": null,
   "id": "d36267fc",
   "metadata": {
    "ExecuteTime": {
     "end_time": "2023-03-10T08:43:06.412415Z",
     "start_time": "2023-03-10T08:43:06.263222Z"
    }
   },
   "outputs": [],
   "source": [
    "# Create synthetic\n",
    "basket_df = pd.DataFrame({\n",
    "    'basket_id': baskets_dict.keys(),\n",
    "    'items_list': [[item] for item in baskets_dict.values()],\n",
    "    'size_basket': randint(low=2, high=4, size=1000, dtype=int)\n",
    "})\n",
    "for i in range(basket_df.size_basket.max()):\n",
    "    basket_df['items_list'] = basket_df.items_list.apply(lambda x: [*x, generate_associated_items_by_rule(x[-1], associated_rules, synthetic_item_list)])\n",
    "\n",
    "basket_df['items_list'] = basket_df.items_list.apply(lambda x: list(dict.fromkeys(x))) # dedup\n",
    "basket_df['items_list'] = basket_df.apply(lambda r: r.items_list[:r.size_basket], axis=1)\n",
    "basket_df['item_pairs'] = basket_df.items_list.apply(lambda x: list(combinations(x, 2)))"
   ]
  },
  {
   "cell_type": "code",
   "execution_count": null,
   "id": "b6c47ab4",
   "metadata": {
    "ExecuteTime": {
     "end_time": "2023-03-10T08:43:06.984446Z",
     "start_time": "2023-03-10T08:43:06.967300Z"
    }
   },
   "outputs": [],
   "source": [
    "basket_df"
   ]
  },
  {
   "cell_type": "code",
   "execution_count": null,
   "id": "7d83f182",
   "metadata": {
    "ExecuteTime": {
     "end_time": "2023-03-10T08:43:07.663993Z",
     "start_time": "2023-03-10T08:43:07.646228Z"
    }
   },
   "outputs": [],
   "source": [
    "df_item_line = (basket_df[['basket_id', 'items_list', 'size_basket']]\n",
    "                .explode('items_list')\n",
    "                .rename(columns={'items_list': 'item_name'})\n",
    "               )\n",
    "df_item_support = df_item_line.groupby('item_name').basket_id.nunique().rename('occurence').reset_index() \n",
    "df_item_support['item_support'] = df_item_support.occurence / df_item_support.occurence.sum()\n",
    "df_item_support"
   ]
  },
  {
   "cell_type": "code",
   "execution_count": null,
   "id": "c2b25d62",
   "metadata": {
    "ExecuteTime": {
     "end_time": "2023-03-10T08:43:08.411179Z",
     "start_time": "2023-03-10T08:43:08.398659Z"
    }
   },
   "outputs": [],
   "source": [
    "df_item_pairs = basket_df[['basket_id', 'item_pairs']].explode('item_pairs')\n",
    "df_item_pairs = df_item_pairs.groupby('item_pairs').basket_id.nunique().rename('occurence_AB').reset_index()"
   ]
  },
  {
   "cell_type": "code",
   "execution_count": null,
   "id": "74f33b8c",
   "metadata": {
    "ExecuteTime": {
     "end_time": "2023-03-10T08:43:09.221076Z",
     "start_time": "2023-03-10T08:43:09.218394Z"
    }
   },
   "outputs": [],
   "source": [
    "# df_item_pairs[df_item_pairs.itemA == df_item_pairs.itemB]"
   ]
  },
  {
   "cell_type": "code",
   "execution_count": null,
   "id": "e135102e",
   "metadata": {
    "ExecuteTime": {
     "end_time": "2023-03-10T08:43:09.983101Z",
     "start_time": "2023-03-10T08:43:09.978225Z"
    }
   },
   "outputs": [],
   "source": [
    "# Filter by min occurance of item_pairs\n",
    "min_occurence_AB = 30 \n",
    "print(f'Before: {df_item_pairs.shape}')\n",
    "df_item_pairs = df_item_pairs[df_item_pairs.occurence_AB >= min_occurence_AB]\n",
    "print(f'After: {df_item_pairs.shape}')"
   ]
  },
  {
   "cell_type": "code",
   "execution_count": null,
   "id": "3f9e104d",
   "metadata": {
    "ExecuteTime": {
     "end_time": "2023-03-10T08:43:10.840385Z",
     "start_time": "2023-03-10T08:43:10.809880Z"
    }
   },
   "outputs": [],
   "source": [
    "df_item_pairs['itemA'] = df_item_pairs.item_pairs.apply(lambda x: x[0])\n",
    "df_item_pairs['itemB'] = df_item_pairs.item_pairs.apply(lambda x: x[1])\n",
    "df_item_pairs = pd.merge(\n",
    "    df_item_pairs, \n",
    "    df_item_support[['item_name', 'item_support']].rename(columns={'item_name':'itemA', 'item_support':'supportA'})\n",
    ")\n",
    "df_item_pairs = pd.merge(\n",
    "    df_item_pairs, \n",
    "    df_item_support[['item_name', 'item_support']].rename(columns={'item_name':'itemB', 'item_support':'supportB'})\n",
    ")\n",
    "\n",
    "df_item_pairs.head()"
   ]
  },
  {
   "cell_type": "code",
   "execution_count": null,
   "id": "095d0683",
   "metadata": {
    "ExecuteTime": {
     "end_time": "2023-03-10T08:43:11.600993Z",
     "start_time": "2023-03-10T08:43:11.590139Z"
    }
   },
   "outputs": [],
   "source": [
    "# support{apple,egg} = 3/5 or 60%\n",
    "df_item_pairs['support_AB'] = df_item_pairs.occurence_AB / df_item_pairs.occurence_AB.sum()\n",
    "df_item_pairs.sort_values(by='support_AB', ascending=False).head()"
   ]
  },
  {
   "cell_type": "code",
   "execution_count": null,
   "id": "49497956",
   "metadata": {
    "ExecuteTime": {
     "end_time": "2023-03-10T08:43:12.735017Z",
     "start_time": "2023-03-10T08:43:12.709016Z"
    }
   },
   "outputs": [],
   "source": [
    "# confidence{A->B} = support{A,B} / support{A}   \n",
    "df_item_pairs['confidence_AB'] = df_item_pairs.support_AB / df_item_pairs.supportA\n",
    "df_item_pairs['confidence_BA'] = df_item_pairs.support_AB / df_item_pairs.supportB\n",
    "df_item_pairs.sort_values(by='support_AB', ascending=False).head()"
   ]
  },
  {
   "cell_type": "code",
   "execution_count": null,
   "id": "b5490435",
   "metadata": {
    "ExecuteTime": {
     "end_time": "2023-03-10T08:43:13.643646Z",
     "start_time": "2023-03-10T08:43:13.618673Z"
    }
   },
   "outputs": [],
   "source": [
    "# lift{A,B} = lift{B,A} = support{A,B} / (support{A} * support{B}) \n",
    "df_item_pairs['lift'] = df_item_pairs.support_AB / (df_item_pairs.supportA * df_item_pairs.supportB)\n",
    "df_item_pairs.sort_values(by='support_AB', ascending=False).head()"
   ]
  },
  {
   "cell_type": "code",
   "execution_count": null,
   "id": "9011af71",
   "metadata": {
    "ExecuteTime": {
     "end_time": "2023-03-10T08:43:14.735784Z",
     "start_time": "2023-03-10T08:43:14.389816Z"
    }
   },
   "outputs": [],
   "source": [
    "fig, axs = plt.subplots(1, 3, figsize=(13, 5))\n",
    "\n",
    "xs = ['lift', 'support_AB', 'confidence_AB']\n",
    "colors = ['skyblue', 'olive', 'gold']\n",
    "\n",
    "for i in range(3):\n",
    "    sns.histplot(data=df_item_pairs, x=xs[i], kde=True, color=colors[i], ax=axs[i])"
   ]
  },
  {
   "cell_type": "code",
   "execution_count": null,
   "id": "aa8c611a",
   "metadata": {
    "ExecuteTime": {
     "end_time": "2023-03-10T08:43:15.286289Z",
     "start_time": "2023-03-10T08:43:15.271987Z"
    }
   },
   "outputs": [],
   "source": [
    "# Choise of support/confidence\n",
    "# Source: https://www.kaggle.com/code/xvivancos/market-basket-analysis/report\n",
    "# Lower the support: Having more rules, with high confidence level\n",
    "rules = df_item_pairs#[df_item_pairs.support_AB >= 0.01]\n",
    "def plot_numrules_confidence_lvl(df_item_pairs, min_support, ax):\n",
    "    rules_df = df_item_pairs[df_item_pairs.support_AB >= min_support]\n",
    "    confidence_levels = np.arange(0, 1, 0.1)\n",
    "    num_rules = []\n",
    "    for thres_lvl in confidence_levels:\n",
    "        rule_cnt = rules_df[rules_df.confidence_AB > thres_lvl].shape[0]\n",
    "        num_rules.append(rule_cnt)\n",
    "    \n",
    "    df_confidence_rule_cnt = pd.DataFrame({\n",
    "        'confidence_level': confidence_levels,\n",
    "        'num_rules': num_rules\n",
    "    }).set_index('confidence_level')\n",
    "    \n",
    "    ax.plot(confidence_levels, num_rules, 'o-', color='black')\n",
    "    ax.set_title(f'Cut-off: support_AB >= {min_support}')\n",
    "    ax.set_xlabel('Confidence level')\n",
    "    return ax"
   ]
  },
  {
   "cell_type": "code",
   "execution_count": null,
   "id": "30e5c19a",
   "metadata": {
    "ExecuteTime": {
     "end_time": "2023-03-10T08:43:16.437587Z",
     "start_time": "2023-03-10T08:43:16.180779Z"
    }
   },
   "outputs": [],
   "source": [
    "fig, axs = plt.subplots(1, 3, figsize=(13, 5))\n",
    "min_support = [0.01, 0.03, 0.05]\n",
    "for i in range(3):\n",
    "    plot_numrules_confidence_lvl(df_item_pairs, min_support=min_support[i], ax=axs[i])\n",
    "    if i == 0:\n",
    "        axs[i].set_ylabel('Number of rules')"
   ]
  },
  {
   "cell_type": "code",
   "execution_count": null,
   "id": "35117ee1",
   "metadata": {
    "ExecuteTime": {
     "end_time": "2023-03-10T08:43:44.183317Z",
     "start_time": "2023-03-10T08:43:44.175751Z"
    }
   },
   "outputs": [],
   "source": [
    "df_item_pairs_flr_support = df_item_pairs[df_item_pairs.support_AB >= 0.01]\n",
    "df_item_pairs_flr_support_confi = df_item_pairs_flr_support[df_item_pairs_flr_support.confidence_AB >= 0.2]\n",
    "print(df_item_pairs.shape)\n",
    "print(df_item_pairs_flr_support.shape)\n",
    "print(df_item_pairs_flr_support_confi.shape)"
   ]
  },
  {
   "cell_type": "code",
   "execution_count": null,
   "id": "a1a50a4d",
   "metadata": {
    "ExecuteTime": {
     "end_time": "2023-03-10T08:43:44.974593Z",
     "start_time": "2023-03-10T08:43:44.961682Z"
    }
   },
   "outputs": [],
   "source": [
    "# lift = 1 implies no relationship between A and B. \n",
    "# (ie: A and B occur together only by chance)\n",
    "df_item_pairs[df_item_pairs.lift.between(0.9, 1.1)].head()"
   ]
  },
  {
   "cell_type": "code",
   "execution_count": null,
   "id": "fad44f3e",
   "metadata": {
    "ExecuteTime": {
     "end_time": "2023-03-10T08:43:45.711482Z",
     "start_time": "2023-03-10T08:43:45.705519Z"
    }
   },
   "outputs": [],
   "source": [
    "df_item_pairs_flr_support_confi[df_item_pairs_flr_support_confi.lift.between(0.9, 1.1)].shape"
   ]
  },
  {
   "cell_type": "code",
   "execution_count": null,
   "id": "0a881fed",
   "metadata": {
    "ExecuteTime": {
     "end_time": "2023-03-10T08:43:46.404337Z",
     "start_time": "2023-03-10T08:43:46.392709Z"
    }
   },
   "outputs": [],
   "source": [
    "# lift > 1 implies that there is a positive relationship between A and B.\n",
    "# (ie:  A and B occur together more often than random)\n",
    "df_item_pairs_flr_support_confi.sort_values(by='lift', ascending=False).head()"
   ]
  },
  {
   "cell_type": "code",
   "execution_count": null,
   "id": "fefb3cff",
   "metadata": {
    "ExecuteTime": {
     "end_time": "2023-03-10T08:43:47.090773Z",
     "start_time": "2023-03-10T08:43:47.077114Z"
    }
   },
   "outputs": [],
   "source": [
    "df_item_pairs_flr_support_confi.sort_values(by='lift', ascending=False).tail()"
   ]
  },
  {
   "cell_type": "code",
   "execution_count": null,
   "id": "2406ac39",
   "metadata": {
    "ExecuteTime": {
     "end_time": "2023-03-10T08:43:48.098322Z",
     "start_time": "2023-03-10T08:43:47.803492Z"
    }
   },
   "outputs": [],
   "source": [
    "fig, axs = plt.subplots(1, 3, figsize=(13, 5))\n",
    "\n",
    "xs = ['lift', 'support_AB', 'confidence_AB']\n",
    "colors = ['skyblue', 'olive', 'gold']\n",
    "\n",
    "tit1 = 'without filter'\n",
    "tit2 = 'min-support>=0.01'\n",
    "tit3 = tit2 + ' ' + 'confi-lvl>=0.2'\n",
    "\n",
    "sns.histplot(data=df_item_pairs, x='lift', kde=True, color='gold', ax=axs[0]).set(title=tit1)\n",
    "sns.histplot(data=df_item_pairs_flr_support, x='lift', kde=True, color='olive', ax=axs[1]).set(title=tit2)\n",
    "sns.histplot(data=df_item_pairs_flr_support_confi, x='lift', kde=True, color='skyblue', ax=axs[2]).set(title=tit3);"
   ]
  },
  {
   "cell_type": "code",
   "execution_count": null,
   "id": "dde7a0cb",
   "metadata": {
    "ExecuteTime": {
     "end_time": "2023-03-10T08:43:48.855138Z",
     "start_time": "2023-03-10T08:43:48.839225Z"
    }
   },
   "outputs": [],
   "source": [
    "df_apriori = df_item_pairs_flr_support_confi.sort_values(by='lift', ascending=False)\n",
    "df_apriori"
   ]
  },
  {
   "cell_type": "code",
   "execution_count": null,
   "id": "2f8a991b",
   "metadata": {
    "ExecuteTime": {
     "end_time": "2023-03-10T08:43:49.846260Z",
     "start_time": "2023-03-10T08:43:49.662183Z"
    }
   },
   "outputs": [],
   "source": [
    "df_heatmap = (df_apriori\n",
    "              .groupby(['itemA', 'itemB']).lift.mean()\n",
    "              .reset_index()\n",
    "              .pivot(index='itemA', columns='itemB', values='lift')\n",
    "             )\n",
    "plt.figure(figsize=(7, 5))\n",
    "sns.heatmap(df_heatmap, annot=True, fmt='.1f', cmap=sns.cubehelix_palette(as_cmap=True))\n",
    "plt.title('Apriori output: Lift by item pair');"
   ]
  },
  {
   "cell_type": "code",
   "execution_count": null,
   "id": "a3333540",
   "metadata": {
    "ExecuteTime": {
     "end_time": "2023-03-10T08:43:53.915476Z",
     "start_time": "2023-03-10T08:43:53.911286Z"
    }
   },
   "outputs": [],
   "source": [
    "df_apriori = df_apriori[df_apriori.lift >= 1.3]"
   ]
  },
  {
   "cell_type": "code",
   "execution_count": null,
   "id": "100b4502",
   "metadata": {
    "ExecuteTime": {
     "end_time": "2023-03-10T08:43:54.821668Z",
     "start_time": "2023-03-10T08:43:54.619532Z"
    }
   },
   "outputs": [],
   "source": [
    "df_heatmap = (df_apriori\n",
    "              .groupby(['itemA', 'itemB']).lift.mean()\n",
    "              .reset_index()\n",
    "              .pivot(index='itemA', columns='itemB', values='lift')\n",
    "             )\n",
    "plt.figure(figsize=(7, 5))\n",
    "sns.heatmap(df_heatmap, annot=True, fmt='.1f', cmap=sns.cubehelix_palette(as_cmap=True))\n",
    "plt.title('Apriori output: Lift by item pair');"
   ]
  },
  {
   "cell_type": "code",
   "execution_count": null,
   "id": "3241dc61",
   "metadata": {
    "ExecuteTime": {
     "end_time": "2023-03-10T08:44:03.759707Z",
     "start_time": "2023-03-10T08:44:03.747978Z"
    }
   },
   "outputs": [],
   "source": [
    "# Create nodes_df\n",
    "associated_items_ls = pd.concat([df_apriori.itemA, df_apriori.itemB]).unique()\n",
    "nodes_df = df_item_support[df_item_support.item_name.isin(associated_items_ls)]\n",
    "\n",
    "alphanum_nodeid = list(string.ascii_lowercase) + [str(i) for i in range(9)]\n",
    "nodes_df['node_id'] = [alphanum_nodeid[i] for i in range(len(nodes_df))]\n",
    "nodes_df"
   ]
  },
  {
   "cell_type": "code",
   "execution_count": null,
   "id": "8688b241",
   "metadata": {
    "ExecuteTime": {
     "end_time": "2023-03-10T08:44:04.502835Z",
     "start_time": "2023-03-10T08:44:04.478292Z"
    }
   },
   "outputs": [],
   "source": [
    "# Add node_id to df_apriori\n",
    "nodes_id_dict = {r.item_name: r.node_id for _, r in nodes_df.iterrows()}\n",
    "df_apriori['from_node_id'] = df_apriori.itemA.apply(lambda x: nodes_id_dict[x])\n",
    "df_apriori['to_node_id'] = df_apriori.itemB.apply(lambda x: nodes_id_dict[x])\n",
    "df_apriori['edge'] = df_apriori.from_node_id + df_apriori.to_node_id\n",
    "df_apriori"
   ]
  },
  {
   "cell_type": "code",
   "execution_count": null,
   "id": "4bec8d6f",
   "metadata": {
    "ExecuteTime": {
     "end_time": "2023-03-10T08:44:06.267722Z",
     "start_time": "2023-03-10T08:44:06.021746Z"
    }
   },
   "outputs": [],
   "source": [
    "scaled_size = 4\n",
    "gra = Digraph(edge_attr={'color':'lightgray'},\n",
    "              node_attr={'shape': 'circle', 'fixedsize':'true', 'style': 'filled', 'fontsize': '10'},\n",
    "              graph_attr={'beautify':'true', 'margin': '0.5'},\n",
    "              format='pdf'\n",
    "             )\n",
    "\n",
    "for _, r in nodes_df.iterrows():\n",
    "    gra.node(r.node_id, r.item_name.lower(), **{'width':str(r.item_support * scaled_size)})\n",
    "\n",
    "gra.edges(df_apriori.edge.tolist())\n",
    "gra"
   ]
  },
  {
   "cell_type": "code",
   "execution_count": null,
   "id": "c5c40bce",
   "metadata": {},
   "outputs": [],
   "source": []
  }
 ],
 "metadata": {
  "kernelspec": {
   "display_name": "Python 3 (ipykernel)",
   "language": "python",
   "name": "python3"
  },
  "language_info": {
   "codemirror_mode": {
    "name": "ipython",
    "version": 3
   },
   "file_extension": ".py",
   "mimetype": "text/x-python",
   "name": "python",
   "nbconvert_exporter": "python",
   "pygments_lexer": "ipython3",
   "version": "3.8.8"
  },
  "latex_envs": {
   "LaTeX_envs_menu_present": true,
   "autoclose": false,
   "autocomplete": true,
   "bibliofile": "biblio.bib",
   "cite_by": "apalike",
   "current_citInitial": 1,
   "eqLabelWithNumbers": true,
   "eqNumInitial": 1,
   "hotkeys": {
    "equation": "Ctrl-E",
    "itemize": "Ctrl-I"
   },
   "labels_anchors": false,
   "latex_user_defs": false,
   "report_style_numbering": false,
   "user_envs_cfg": false
  },
  "toc": {
   "base_numbering": 1,
   "nav_menu": {},
   "number_sections": true,
   "sideBar": true,
   "skip_h1_title": false,
   "title_cell": "Table of Contents",
   "title_sidebar": "Contents",
   "toc_cell": false,
   "toc_position": {},
   "toc_section_display": true,
   "toc_window_display": true
  },
  "varInspector": {
   "cols": {
    "lenName": 16,
    "lenType": 16,
    "lenVar": 40
   },
   "kernels_config": {
    "python": {
     "delete_cmd_postfix": "",
     "delete_cmd_prefix": "del ",
     "library": "var_list.py",
     "varRefreshCmd": "print(var_dic_list())"
    },
    "r": {
     "delete_cmd_postfix": ") ",
     "delete_cmd_prefix": "rm(",
     "library": "var_list.r",
     "varRefreshCmd": "cat(var_dic_list()) "
    }
   },
   "types_to_exclude": [
    "module",
    "function",
    "builtin_function_or_method",
    "instance",
    "_Feature"
   ],
   "window_display": false
  },
  "vscode": {
   "interpreter": {
    "hash": "fe499eaee30ab486884091db98fd06f34dd13a56b3fd15fdcb87a6046d8be81b"
   }
  }
 },
 "nbformat": 4,
 "nbformat_minor": 5
}
